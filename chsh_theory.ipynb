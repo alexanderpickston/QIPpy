{
 "cells": [
  {
   "cell_type": "code",
   "execution_count": 1,
   "id": "6e2181cf-d3f9-425e-9e8a-d5e857a6576c",
   "metadata": {},
   "outputs": [],
   "source": [
    "import numpy as np\n",
    "import numba\n",
    "import matplotlib.pyplot as plt\n",
    "from pprint import pprint\n",
    "from IPython.display import Math"
   ]
  },
  {
   "cell_type": "code",
   "execution_count": 2,
   "id": "2d25411a-f03c-420b-8178-4d182b860390",
   "metadata": {},
   "outputs": [],
   "source": [
    "basis_vectors = {\n",
    "    'H': np.array([1, 0]),\n",
    "    'V': np.array([0, 1]),\n",
    "}\n",
    "\n",
    "basis_vectors.update({\n",
    "    'D': (1/np.sqrt(2)) * (basis_vectors['H'] + basis_vectors['V']),\n",
    "    'A': (1/np.sqrt(2)) * (basis_vectors['H'] - basis_vectors['V']),\n",
    "    'R': (1/np.sqrt(2)) * (basis_vectors['H'] + (basis_vectors['V'] * 1j)),\n",
    "    'L': (1/np.sqrt(2)) * (basis_vectors['H'] - (basis_vectors['V'] * 1j))\n",
    "    })"
   ]
  },
  {
   "cell_type": "code",
   "execution_count": 3,
   "id": "17abb02e-6eca-464d-8b8e-8cb86608f28b",
   "metadata": {},
   "outputs": [],
   "source": [
    "def outer(a,b):\n",
    "    # source: (https://stackoverflow.com/a/25818894)\n",
    "    # custom 'outer' for this issue\n",
    "    # a,b must be np.char.array for '+' to be defined\n",
    "    return a.ravel()[:, np.newaxis]+b.ravel()[np.newaxis,:]"
   ]
  },
  {
   "cell_type": "code",
   "execution_count": 4,
   "id": "38aac19b-37e7-47f7-937b-1dbffb04a4b2",
   "metadata": {},
   "outputs": [],
   "source": [
    "def rotate(angle, deg=True):\n",
    "    if deg:\n",
    "        angle = np.deg2rad(angle)\n",
    "   \n",
    "    c, s = np.cos(angle), np.sin(angle),\n",
    "    return np.array([[c, s], [-s, c]])"
   ]
  },
  {
   "cell_type": "code",
   "execution_count": 5,
   "id": "55bc4137-c745-4d23-8207-a568cfe16a04",
   "metadata": {},
   "outputs": [],
   "source": [
    "def vector_from_angle(angle, vector):\n",
    "    a, b = rotate(angle)\n",
    "    return np.array([np.sum(vector*a), np.sum(vector*b)])"
   ]
  },
  {
   "cell_type": "code",
   "execution_count": 6,
   "id": "fc841019-aaa1-4a79-8129-14a7ba6cb794",
   "metadata": {},
   "outputs": [
    {
     "data": {
      "text/plain": [
       "array([ 0.92387953, -0.38268343])"
      ]
     },
     "execution_count": 6,
     "metadata": {},
     "output_type": "execute_result"
    }
   ],
   "source": [
    "vector_from_angle(22.5, basis_vectors['H'])"
   ]
  },
  {
   "cell_type": "code",
   "execution_count": 7,
   "id": "e2f5866b-503a-4f39-ac43-9626a271ca6d",
   "metadata": {},
   "outputs": [],
   "source": [
    "class chsh_measurement():\n",
    "    def __init__(self, key, angle, prime=False, perp=False):\n",
    "        self.prime = prime\n",
    "        self.perp = perp\n",
    "        self._angle = angle\n",
    "        self.angle = angle\n",
    "        \n",
    "        if isinstance(self.prime, str):\n",
    "            if self.prime.lower() == 'true':\n",
    "                self.prime = True\n",
    "        if isinstance(self.perp, str):\n",
    "            if self.perp.lower() == 'true':\n",
    "                self.perp = True\n",
    "                \n",
    "        if self.prime:\n",
    "            self.angle += 45\n",
    "        \n",
    "        if self.perp:\n",
    "            self.angle += 90\n",
    "                \n",
    "        self.key_base = key\n",
    "        self.key = key\n",
    "        self.vector = vector_from_angle(self.angle, basis_vectors['H'])\n",
    "    \n",
    "    @property\n",
    "    def key(self):\n",
    "        return self._key\n",
    "    \n",
    "    @key.setter\n",
    "    def key(self, key_str):\n",
    "            \n",
    "        if self.prime is True:\n",
    "            _prime = '^{\\prime}'\n",
    "        else:\n",
    "            _prime = ''\n",
    "        \n",
    "        if self.perp is True:\n",
    "            _perp = '_{\\perp}'\n",
    "        else:\n",
    "            _perp = ''\n",
    "            \n",
    "    \n",
    "        self._key = f'\\\\{key_str}{_prime}{_perp}'"
   ]
  },
  {
   "cell_type": "code",
   "execution_count": 8,
   "id": "aa0c6fc8-bae6-43aa-8997-9143f0af5335",
   "metadata": {},
   "outputs": [],
   "source": [
    "class chsh_expectation():\n",
    "    def __init__(self, a, b):\n",
    "        self.a = a\n",
    "        self.b = b\n",
    "        \n",
    "        self.c = chsh_measurement(self.a.key_base, self.a._angle, self.a.prime, perp=True)\n",
    "        self.d = chsh_measurement(self.b.key_base, self.b._angle, self.b.prime, perp=True)\n",
    "        \n",
    "        \n",
    "    def probability(self, a, b, state_vector):\n",
    "        out_str = f'{a.key},{b.key}'\n",
    "        \n",
    "        out_val = np.abs(\n",
    "                       np.dot(\n",
    "                           np.kron(a.vector, b.vector).conj(),\n",
    "                           state_vector\n",
    "                              )\n",
    "                       )\n",
    "        \n",
    "        \n",
    "        return {out_str: out_val}\n",
    "    \n",
    "    \n",
    "    def probabilites(self, state_vector):\n",
    "        \n",
    "        p = {}\n",
    "        p.update(self.probability(self.a, self.b, state_vector))\n",
    "        p.update(self.probability(self.c, self.b, state_vector))\n",
    "        p.update(self.probability(self.a, self.d, state_vector))\n",
    "        p.update(self.probability(self.c, self.d, state_vector))\n",
    "        \n",
    "        return p\n",
    "    \n",
    "    def expectation(self, state_vector):\n",
    "        return np.sum(np.array(list(self.probabilites(state_vector).values())) * np.array([1, -1, -1, 1]))"
   ]
  },
  {
   "cell_type": "code",
   "execution_count": 9,
   "id": "6a58de6d-9157-4461-807e-3fbe5e10397b",
   "metadata": {},
   "outputs": [
    {
     "data": {
      "text/plain": [
       "(chararray(['hh', 'vv'], dtype='<U2'), chararray(['hv', 'vh'], dtype='<U2'))"
      ]
     },
     "execution_count": 9,
     "metadata": {},
     "output_type": "execute_result"
    }
   ],
   "source": [
    "basis_labels = np.char.array(['h', 'v'])\n",
    "phi, psi = outer(basis_labels, basis_labels).reshape([int(basis_labels.size*2)])[np.array([0, 3, 1, 2])].reshape([2, 2])\n",
    "phi, psi"
   ]
  },
  {
   "cell_type": "code",
   "execution_count": 10,
   "id": "97707181-c1df-472c-88ce-4bbd1a6d599b",
   "metadata": {},
   "outputs": [],
   "source": [
    "state_vecs = {\n",
    "    'phim': np.subtract(*[np.kron(*[basis_vectors[p.upper()] for p in pair]) for pair in phi]) / np.sqrt(2),\n",
    "    'phip': np.add(*[np.kron(*[basis_vectors[p.upper()] for p in pair]) for pair in phi]) / np.sqrt(2),\n",
    "    'psim': np.subtract(*[np.kron(*[basis_vectors[p.upper()] for p in pair]) for pair in psi]) / np.sqrt(2),\n",
    "    'psip': np.add(*[np.kron(*[basis_vectors[p.upper()] for p in pair]) for pair in psi]) / np.sqrt(2),\n",
    "}"
   ]
  },
  {
   "cell_type": "code",
   "execution_count": 11,
   "id": "b4b2e65d-3a49-4deb-a524-054022371d2f",
   "metadata": {},
   "outputs": [
    {
     "name": "stdout",
     "output_type": "stream",
     "text": [
      "[('ab', [0, -22.5, 90, 67.5]),\n",
      " ('apb', [45, -22.5, 135, 67.5]),\n",
      " ('abp', [0, 22.5, 90, 112.5]),\n",
      " ('apbp', [45, 22.5, 135, 112.5])]\n"
     ]
    }
   ],
   "source": [
    "a = chsh_measurement('alpha', 0, prime=False)\n",
    "b = chsh_measurement('beta', -22.5, prime=False)\n",
    "ap = chsh_measurement('alpha', 0, prime=True)\n",
    "bp = chsh_measurement('beta', -22.5, prime=True)\n",
    "\n",
    "expect = {\n",
    "        'ab': chsh_expectation(a, b),\n",
    "        'apb': chsh_expectation(ap, b),\n",
    "        'abp': chsh_expectation(a, bp),\n",
    "        'apbp': chsh_expectation(ap, bp)\n",
    "        }\n",
    "\n",
    "angle_pairs = [(e, [expect[e].a.angle, expect[e].b.angle, expect[e].c.angle, expect[e].d.angle]) for e in expect.keys()]\n",
    "\n",
    "pprint(angle_pairs)"
   ]
  },
  {
   "cell_type": "code",
   "execution_count": 12,
   "id": "df3979f8-9d8c-474b-a8d0-360b57786213",
   "metadata": {},
   "outputs": [],
   "source": [
    "expect = {\n",
    "        f'{a.key},{b.key}': chsh_expectation(a, b),\n",
    "        f'{a.key},{bp.key}': chsh_expectation(a, bp),\n",
    "        f'{ap.key},{b.key}': chsh_expectation(ap, b),\n",
    "        f'{ap.key},{bp.key}': chsh_expectation(ap, bp),\n",
    "        }"
   ]
  },
  {
   "cell_type": "code",
   "execution_count": 13,
   "id": "d38f411b-faa9-43a7-818d-b03cebbde07a",
   "metadata": {},
   "outputs": [
    {
     "data": {
      "text/latex": [
       "$\\displaystyle E\\left(\\alpha,\\beta\\right):0.765\\newline E\\left(\\alpha,\\beta^{\\prime}\\right):0.765\\newline E\\left(\\alpha^{\\prime},\\beta\\right):0.765\\newline E\\left(\\alpha^{\\prime},\\beta^{\\prime}\\right):-0.765$"
      ],
      "text/plain": [
       "<IPython.core.display.Math object>"
      ]
     },
     "metadata": {},
     "output_type": "display_data"
    }
   ],
   "source": [
    "display(Math('\\\\newline '.join([f'E\\\\left({key}\\\\right):{expect[key].expectation(state_vecs[\"phim\"]):.3g}' for key in expect.keys()])))"
   ]
  },
  {
   "cell_type": "code",
   "execution_count": 14,
   "id": "e246a9dc-949d-421d-81ab-fd7a2b132179",
   "metadata": {},
   "outputs": [
    {
     "data": {
      "text/latex": [
       "$\\displaystyle E\\left(\\alpha,\\beta\\right):0.765\\newline E\\left(\\alpha,\\beta^{\\prime}\\right):0.765\\newline E\\left(\\alpha^{\\prime},\\beta\\right):-0.765\\newline E\\left(\\alpha^{\\prime},\\beta^{\\prime}\\right):0.765$"
      ],
      "text/plain": [
       "<IPython.core.display.Math object>"
      ]
     },
     "metadata": {},
     "output_type": "display_data"
    }
   ],
   "source": [
    "display(Math('\\\\newline '.join([f'E\\\\left({key}\\\\right):{expect[key].expectation(state_vecs[\"phip\"]):.3g}' for key in expect.keys()])))"
   ]
  },
  {
   "cell_type": "code",
   "execution_count": 15,
   "id": "524ea0a8-5c4b-44ab-8b4c-cd2d94c91319",
   "metadata": {},
   "outputs": [
    {
     "data": {
      "text/latex": [
       "$\\displaystyle E\\left(\\alpha,\\beta\\right):-0.765\\newline E\\left(\\alpha,\\beta^{\\prime}\\right):-0.765\\newline E\\left(\\alpha^{\\prime},\\beta\\right):0.765\\newline E\\left(\\alpha^{\\prime},\\beta^{\\prime}\\right):-0.765$"
      ],
      "text/plain": [
       "<IPython.core.display.Math object>"
      ]
     },
     "metadata": {},
     "output_type": "display_data"
    }
   ],
   "source": [
    "display(Math('\\\\newline '.join([f'E\\\\left({key}\\\\right):{expect[key].expectation(state_vecs[\"psim\"]):.3g}' for key in expect.keys()])))"
   ]
  },
  {
   "cell_type": "code",
   "execution_count": 16,
   "id": "b3bd87f7-7809-4b64-9795-79a6751fda15",
   "metadata": {},
   "outputs": [
    {
     "data": {
      "text/latex": [
       "$\\displaystyle E\\left(\\alpha,\\beta\\right):-0.765\\newline E\\left(\\alpha,\\beta^{\\prime}\\right):-0.765\\newline E\\left(\\alpha^{\\prime},\\beta\\right):-0.765\\newline E\\left(\\alpha^{\\prime},\\beta^{\\prime}\\right):0.765$"
      ],
      "text/plain": [
       "<IPython.core.display.Math object>"
      ]
     },
     "metadata": {},
     "output_type": "display_data"
    }
   ],
   "source": [
    "display(Math('\\\\newline '.join([f'E\\\\left({key}\\\\right):{expect[key].expectation(state_vecs[\"psip\"]):.3g}' for key in expect.keys()])))"
   ]
  },
  {
   "cell_type": "code",
   "execution_count": 17,
   "id": "b794ec2a-236e-4435-b7c0-03e069719fce",
   "metadata": {},
   "outputs": [
    {
     "data": {
      "text/latex": [
       "$\\displaystyle p\\left(\\alpha,\\beta\\right):0.653\\newline p\\left(\\alpha_{\\perp},\\beta\\right):0.271\\newline p\\left(\\alpha,\\beta_{\\perp}\\right):0.271\\newline p\\left(\\alpha_{\\perp},\\beta_{\\perp}\\right):0.653$"
      ],
      "text/plain": [
       "<IPython.core.display.Math object>"
      ]
     },
     "metadata": {},
     "output_type": "display_data"
    }
   ],
   "source": [
    "display(Math('\\\\newline '.join([f'p\\\\left({k}\\\\right):{v:.3g}' for k,v in expect[f'{a.key},{b.key}'].probabilites(state_vecs[\"phip\"]).items()])))"
   ]
  },
  {
   "cell_type": "code",
   "execution_count": 18,
   "id": "ca8cd51b-8c2a-440c-bc1b-1f2db202e3ff",
   "metadata": {},
   "outputs": [],
   "source": [
    "sigma_x = np.array([0, 1, 1, 0]).reshape([2, 2])\n",
    "sigma_y = np.array([0, -1j, 1j, 0]).reshape([2, 2])\n",
    "sigma_z = np.array([1, 0, 0, -1]).reshape([2, 2])"
   ]
  },
  {
   "cell_type": "code",
   "execution_count": 19,
   "id": "ad4c4fb5-a139-46ae-8ae0-7cf61ff7bf08",
   "metadata": {},
   "outputs": [],
   "source": [
    "CHSH_observables = {\n",
    "    'Q': sigma_z,\n",
    "    'R': sigma_x,\n",
    "    'S': (-sigma_z - sigma_x) / np.sqrt(2),\n",
    "    'T': (sigma_z - sigma_x) / np.sqrt(2)\n",
    "}"
   ]
  },
  {
   "cell_type": "code",
   "execution_count": 20,
   "id": "74ae522f-44a2-4eb3-b8d1-01a62969ff68",
   "metadata": {},
   "outputs": [
    {
     "data": {
      "text/plain": [
       "array([[-0.70710678, -0.70710678],\n",
       "       [-0.70710678,  0.70710678]])"
      ]
     },
     "execution_count": 20,
     "metadata": {},
     "output_type": "execute_result"
    }
   ],
   "source": [
    "CHSH_observables['S']"
   ]
  },
  {
   "cell_type": "code",
   "execution_count": 21,
   "id": "9fed636b-da81-4c77-955f-88e243b08133",
   "metadata": {},
   "outputs": [],
   "source": [
    "def expectation_value(state_vec, observation):\n",
    "    return np.dot(state_vec,\n",
    "                  np.dot(observation, state_vec)\n",
    "                 )"
   ]
  },
  {
   "cell_type": "code",
   "execution_count": 22,
   "id": "0d811b52-91d7-4b86-a7d5-cbbb90e0171a",
   "metadata": {},
   "outputs": [],
   "source": [
    "def observable(q1, q2):\n",
    "    return np.kron(q1, q2)"
   ]
  },
  {
   "cell_type": "code",
   "execution_count": 23,
   "id": "0a374703-b033-488e-b815-d65cecacb9da",
   "metadata": {},
   "outputs": [],
   "source": [
    "qs = observable(CHSH_observables['Q'], CHSH_observables['S'])\n",
    "rs = observable(CHSH_observables['R'], CHSH_observables['S'])\n",
    "rt = observable(CHSH_observables['R'], CHSH_observables['T'])\n",
    "qt = observable(CHSH_observables['Q'], CHSH_observables['T'])"
   ]
  },
  {
   "cell_type": "code",
   "execution_count": 24,
   "id": "ed03caee-8166-4905-86b2-0120db4fb450",
   "metadata": {},
   "outputs": [
    {
     "data": {
      "text/plain": [
       "array([[-0.70710678, -0.70710678, -0.        , -0.        ],\n",
       "       [-0.70710678,  0.70710678, -0.        ,  0.        ],\n",
       "       [-0.        , -0.        ,  0.70710678,  0.70710678],\n",
       "       [-0.        ,  0.        ,  0.70710678, -0.70710678]])"
      ]
     },
     "execution_count": 24,
     "metadata": {},
     "output_type": "execute_result"
    }
   ],
   "source": [
    "qs"
   ]
  },
  {
   "cell_type": "code",
   "execution_count": 25,
   "id": "9abf3e0a-9bec-4c33-baf0-6aced9a5e34b",
   "metadata": {},
   "outputs": [],
   "source": [
    "chsh_pairs = {'qs': qs,\n",
    "              'rs': rs,\n",
    "              'rt': rt,\n",
    "              'qt': qt}"
   ]
  },
  {
   "cell_type": "code",
   "execution_count": 26,
   "id": "1382caa1-1d9f-45db-badf-00cbb2d8674e",
   "metadata": {},
   "outputs": [
    {
     "name": "stdout",
     "output_type": "stream",
     "text": [
      "chararray([['phim_qs', 'phim_rs', 'phim_rt', 'phim_qt'],\n",
      "           ['phip_qs', 'phip_rs', 'phip_rt', 'phip_qt'],\n",
      "           ['psim_qs', 'psim_rs', 'psim_rt', 'psim_qt'],\n",
      "           ['psip_qs', 'psip_rs', 'psip_rt', 'psip_qt']], dtype='<U7')\n"
     ]
    }
   ],
   "source": [
    "all_chsh_combs = outer(np.char.array([f'{sv}_' for sv in state_vecs.keys()]), np.char.array(list(chsh_pairs.keys())))\n",
    "pprint(all_chsh_combs)"
   ]
  },
  {
   "cell_type": "code",
   "execution_count": 27,
   "id": "2b277d91-3e15-459e-b6db-82f84bb86ffe",
   "metadata": {},
   "outputs": [
    {
     "data": {
      "text/plain": [
       "array([[-0.70710678,  0.70710678,  0.70710678,  0.70710678],\n",
       "       [-0.70710678, -0.70710678, -0.70710678,  0.70710678],\n",
       "       [ 0.70710678,  0.70710678,  0.70710678, -0.70710678],\n",
       "       [ 0.70710678, -0.70710678, -0.70710678, -0.70710678]])"
      ]
     },
     "execution_count": 27,
     "metadata": {},
     "output_type": "execute_result"
    }
   ],
   "source": [
    "chsh_expectations = np.zeros(all_chsh_combs.shape)\n",
    "for i, row in enumerate(all_chsh_combs):\n",
    "    for j, setting in enumerate(row):\n",
    "        sv, obs = all_chsh_combs[i][j].split('_')\n",
    "        chsh_expectations[i][j] = expectation_value(state_vecs[sv], chsh_pairs[obs])\n",
    "        \n",
    "chsh_expectations"
   ]
  },
  {
   "cell_type": "code",
   "execution_count": 28,
   "id": "ac58d12e-9466-4033-b65b-7babf6e59a6e",
   "metadata": {},
   "outputs": [],
   "source": [
    "def magnitude(vec):\n",
    "    return np.sqrt(np.sum([v**2 for v in vec]))"
   ]
  },
  {
   "cell_type": "code",
   "execution_count": 29,
   "id": "fcd78adb-6470-4b0a-a808-a9daa12da585",
   "metadata": {},
   "outputs": [],
   "source": [
    "def angle_between_vecs(v1, v2, deg=True):\n",
    "    angle = np.arccos(np.dot(v1, v2) / (magnitude(v1) * magnitude(v2)))\n",
    "    \n",
    "    if deg:\n",
    "        return np.rad2deg(angle)\n",
    "    else:\n",
    "        return angle"
   ]
  },
  {
   "cell_type": "code",
   "execution_count": 30,
   "id": "99d511da-8ccf-4730-85b2-a81f0cf7c0ac",
   "metadata": {},
   "outputs": [
    {
     "name": "stdout",
     "output_type": "stream",
     "text": [
      "H: 22.5\n",
      "V: 112.5\n",
      "D: 67.5\n",
      "A: 22.5\n"
     ]
    }
   ],
   "source": [
    "v, A = np.linalg.eig(CHSH_observables['T'])\n",
    "\n",
    "for b in 'HVDA':\n",
    "    ang = angle_between_vecs(basis_vectors[b], A[:,0])\n",
    "    print(f'{b}: {ang:.5g}')"
   ]
  },
  {
   "cell_type": "code",
   "execution_count": 31,
   "id": "b4dad9c4-498c-46b5-80b2-edcba1d0231a",
   "metadata": {},
   "outputs": [
    {
     "name": "stdout",
     "output_type": "stream",
     "text": [
      "H: 67.5\n",
      "V: 22.5\n",
      "D: 67.5\n",
      "A: 22.5\n"
     ]
    }
   ],
   "source": [
    "v, A = np.linalg.eig(CHSH_observables['S'])\n",
    "\n",
    "for b in 'HVDA':\n",
    "    ang = angle_between_vecs(basis_vectors[b], A[:,0])\n",
    "    print(f'{b}: {ang-90:.5g}')"
   ]
  },
  {
   "cell_type": "code",
   "execution_count": null,
   "id": "415b8096-8988-493f-8ed0-e23f18ae8005",
   "metadata": {},
   "outputs": [],
   "source": []
  }
 ],
 "metadata": {
  "kernelspec": {
   "display_name": "Python 3 (ipykernel)",
   "language": "python",
   "name": "python3"
  },
  "language_info": {
   "codemirror_mode": {
    "name": "ipython",
    "version": 3
   },
   "file_extension": ".py",
   "mimetype": "text/x-python",
   "name": "python",
   "nbconvert_exporter": "python",
   "pygments_lexer": "ipython3",
   "version": "3.8.11"
  }
 },
 "nbformat": 4,
 "nbformat_minor": 5
}

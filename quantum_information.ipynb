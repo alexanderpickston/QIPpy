{
 "cells": [
  {
   "cell_type": "code",
   "execution_count": 1,
   "metadata": {},
   "outputs": [],
   "source": [
    "import numpy as np\n",
    "import functools as ft"
   ]
  },
  {
   "cell_type": "markdown",
   "metadata": {},
   "source": [
    "# Basis states"
   ]
  },
  {
   "cell_type": "code",
   "execution_count": 6,
   "metadata": {},
   "outputs": [],
   "source": [
    "pauli_Z = np.array([1, 0, 0, -1]).reshape([2, 2])\n",
    "pauli_X = np.array([0, 1, 1, 0]).reshape([2, 2])\n",
    "pauli_Y = np.array([0, -1j, 1j, 0]).reshape([2, 2])\n",
    "\n",
    "_eigenvalues, _eigenvectors = np.linalg.eig(pauli_Z)\n",
    "H = _eigenvectors[0]\n",
    "V = _eigenvectors[1]\n",
    "\n",
    "_eigenvalues, _eigenvectors = np.linalg.eig(pauli_X)\n",
    "D = _eigenvectors[0]\n",
    "A = _eigenvectors[1]\n",
    "\n",
    "_eigenvalues, _eigenvectors = np.linalg.eig(pauli_Y)\n",
    "R = _eigenvectors[0]\n",
    "L = _eigenvectors[1]"
   ]
  },
  {
   "cell_type": "code",
   "execution_count": 53,
   "metadata": {},
   "outputs": [],
   "source": [
    "def densitymatrix(state):\n",
    "    return np.outer(state, np.conjugate(state))"
   ]
  },
  {
   "cell_type": "code",
   "execution_count": 54,
   "metadata": {},
   "outputs": [
    {
     "data": {
      "text/plain": [
       "array([[ 0. ,  0. , -0. ,  0. ],\n",
       "       [ 0. ,  0.5, -0.5,  0. ],\n",
       "       [-0. , -0.5,  0.5, -0. ],\n",
       "       [ 0. ,  0. , -0. ,  0. ]])"
      ]
     },
     "execution_count": 54,
     "metadata": {},
     "output_type": "execute_result"
    }
   ],
   "source": [
    "densitymatrix(Bell[\"Psi Minus\"])"
   ]
  },
  {
   "cell_type": "code",
   "execution_count": 38,
   "metadata": {},
   "outputs": [
    {
     "data": {
      "text/plain": [
       "array([ 0.        ,  0.70710678, -0.70710678,  0.        ])"
      ]
     },
     "execution_count": 38,
     "metadata": {},
     "output_type": "execute_result"
    }
   ],
   "source": [
    "Bell[\"Psi Minus\"]"
   ]
  },
  {
   "cell_type": "markdown",
   "metadata": {},
   "source": [
    "Below is an example of how to call a function that acts iteratively on the arguments, similar to how mapping works in mathematica."
   ]
  },
  {
   "cell_type": "code",
   "execution_count": 7,
   "metadata": {},
   "outputs": [
    {
     "data": {
      "text/plain": [
       "array([0, 0, 2, 3])"
      ]
     },
     "execution_count": 7,
     "metadata": {},
     "output_type": "execute_result"
    }
   ],
   "source": [
    "args = [np.arange(2), np.arange(2,4)]\n",
    "np.kron(*args)"
   ]
  },
  {
   "cell_type": "markdown",
   "metadata": {},
   "source": [
    "Could write something clever for calling the Kron of basis vectors. Need to make the basis vectors a dictionary, in order to call something from a string. Think thats the cleanest way to go, rather than bulk editting HH, HV, VH, VV, DD, DA etc..."
   ]
  },
  {
   "cell_type": "code",
   "execution_count": 72,
   "metadata": {},
   "outputs": [],
   "source": [
    "Bell = {\n",
    "    \"Psi Minus\": (1/np.sqrt(2))*(np.kron(H,V) - np.kron(V,H)),\n",
    "    \"Psi Plus\": (1/np.sqrt(2))*(np.kron(H,V) + np.kron(V,H)),\n",
    "    \"Phi Plus\": (1/np.sqrt(2))*(np.kron(H,H) + np.kron(V,V)),\n",
    "    \"Phi Minus\": (1/np.sqrt(2))*(np.kron(H,H) - np.kron(V,V))\n",
    "}"
   ]
  },
  {
   "cell_type": "code",
   "execution_count": 9,
   "metadata": {},
   "outputs": [
    {
     "data": {
      "text/plain": [
       "array([ 0.        ,  0.70710678, -0.70710678,  0.        ])"
      ]
     },
     "execution_count": 9,
     "metadata": {},
     "output_type": "execute_result"
    }
   ],
   "source": [
    "Bell[\"Psi Minus\"]"
   ]
  },
  {
   "cell_type": "code",
   "execution_count": 10,
   "metadata": {},
   "outputs": [
    {
     "data": {
      "text/plain": [
       "array([1., 0., 0., 0.])"
      ]
     },
     "execution_count": 10,
     "metadata": {},
     "output_type": "execute_result"
    }
   ],
   "source": [
    "np.kron(H,H)"
   ]
  },
  {
   "cell_type": "code",
   "execution_count": 11,
   "metadata": {},
   "outputs": [
    {
     "data": {
      "text/plain": [
       "array([1., 0., 0., 0.])"
      ]
     },
     "execution_count": 11,
     "metadata": {},
     "output_type": "execute_result"
    }
   ],
   "source": [
    "_args = [H, H]\n",
    "np.kron(*_args)"
   ]
  },
  {
   "cell_type": "markdown",
   "metadata": {},
   "source": [
    "Writing a function which can perform the Kronecker delta on more than two arguments, run through a quick example first."
   ]
  },
  {
   "cell_type": "code",
   "execution_count": 12,
   "metadata": {},
   "outputs": [
    {
     "data": {
      "text/plain": [
       "array([1., 0., 0., 0., 0., 0., 0., 0., 0., 0., 0., 0., 0., 0., 0., 0.])"
      ]
     },
     "execution_count": 12,
     "metadata": {},
     "output_type": "execute_result"
    }
   ],
   "source": [
    "_args = [H, H, H, H]\n",
    "\n",
    "ft.reduce(lambda x, y: np.kron(x, y), _args)"
   ]
  },
  {
   "cell_type": "markdown",
   "metadata": {},
   "source": [
    "The ft.reduce function is roughly equivalent to the following lines of code. Additionally, I define kronk, which will take the Kronecker product of a list of inputs"
   ]
  },
  {
   "cell_type": "code",
   "execution_count": 13,
   "metadata": {},
   "outputs": [],
   "source": [
    "def reduce(function, iterable, initializer = None):\n",
    "    it = iter(iterable)\n",
    "    if initializer is None:\n",
    "        value = next(it)\n",
    "    else:\n",
    "        value = initializer\n",
    "    for element in it:\n",
    "        value = function(value, element)\n",
    "    return value\n",
    "\n",
    "def kronk(iterable):\n",
    "    return reduce(np.kron, iterable)"
   ]
  },
  {
   "cell_type": "code",
   "execution_count": 14,
   "metadata": {},
   "outputs": [
    {
     "data": {
      "text/plain": [
       "array([1., 0., 0., 0., 0., 0., 0., 0., 0., 0., 0., 0., 0., 0., 0., 0.])"
      ]
     },
     "execution_count": 14,
     "metadata": {},
     "output_type": "execute_result"
    }
   ],
   "source": [
    "reduce(np.kron, _args)"
   ]
  },
  {
   "cell_type": "code",
   "execution_count": 15,
   "metadata": {},
   "outputs": [
    {
     "data": {
      "text/plain": [
       "array([0., 0., 1., 0., 0., 0., 0., 0.])"
      ]
     },
     "execution_count": 15,
     "metadata": {},
     "output_type": "execute_result"
    }
   ],
   "source": [
    "kronk([H,V,H])"
   ]
  },
  {
   "cell_type": "markdown",
   "metadata": {},
   "source": [
    "The below generates a GHZ state of arbitrary dimensions by calling GHZ(n) where n is the dimension of the state"
   ]
  },
  {
   "cell_type": "code",
   "execution_count": 16,
   "metadata": {},
   "outputs": [],
   "source": [
    "def GHZ(dimension):\n",
    "\n",
    "    _basis_vector_H = []\n",
    "    _basis_vector_V = []\n",
    "    _basis_vectors = [H, V]\n",
    "    \n",
    "    for i in range(dimension):\n",
    "        _basis_vector_H.append(_basis_vectors[0])\n",
    "        _basis_vector_V.append(_basis_vectors[1])\n",
    "\n",
    "    \n",
    "    return 1/np.sqrt(2)*(reduce(np.kron, _basis_vector_H) + reduce(np.kron, _basis_vector_V))\n"
   ]
  },
  {
   "cell_type": "code",
   "execution_count": 17,
   "metadata": {},
   "outputs": [
    {
     "data": {
      "text/plain": [
       "array([0.70710678, 0.        , 0.        , 0.        , 0.        ,\n",
       "       0.        , 0.        , 0.        , 0.        , 0.        ,\n",
       "       0.        , 0.        , 0.        , 0.        , 0.        ,\n",
       "       0.70710678])"
      ]
     },
     "execution_count": 17,
     "metadata": {},
     "output_type": "execute_result"
    }
   ],
   "source": [
    "GHZ(4)"
   ]
  },
  {
   "cell_type": "markdown",
   "metadata": {},
   "source": [
    "# Noise"
   ]
  },
  {
   "cell_type": "code",
   "execution_count": 18,
   "metadata": {},
   "outputs": [],
   "source": [
    "def depol_noise(_rho, p):\n",
    "    # only works for single qubit sub-space \n",
    "    # to scale, there needs to be an option to which qubit the noise is being applied to\n",
    "    # once this option has been declared, there needs to be appropriate kronecker products made between identity and pauli operator \n",
    "    _rho_prime = (1 - p)*_rho + (p/3)*(pauli_X*_rho*pauli_X + pauli_Y*_rho*pauli_Y + pauli_Z*_rho*pauli_Z)\n",
    "    return _rho_prime"
   ]
  },
  {
   "cell_type": "code",
   "execution_count": 59,
   "metadata": {},
   "outputs": [],
   "source": [
    "rho = densitymatrix(H)"
   ]
  },
  {
   "cell_type": "code",
   "execution_count": 60,
   "metadata": {},
   "outputs": [
    {
     "data": {
      "text/plain": [
       "array([[0.66666667+0.j, 0.        +0.j],\n",
       "       [0.        +0.j, 0.        +0.j]])"
      ]
     },
     "execution_count": 60,
     "metadata": {},
     "output_type": "execute_result"
    }
   ],
   "source": [
    "depol_noise(rho, 0.5)"
   ]
  },
  {
   "cell_type": "markdown",
   "metadata": {},
   "source": [
    "## Plotting density matrices"
   ]
  },
  {
   "cell_type": "code",
   "execution_count": 1,
   "metadata": {},
   "outputs": [
    {
     "ename": "NameError",
     "evalue": "name 'ax' is not defined",
     "output_type": "error",
     "traceback": [
      "\u001b[0;31m---------------------------------------------------------------------------\u001b[0m",
      "\u001b[0;31mNameError\u001b[0m                                 Traceback (most recent call last)",
      "\u001b[0;32m/var/folders/69/6w_l7snx2337833ct5yy0bn00000gn/T/ipykernel_40620/3437456604.py\u001b[0m in \u001b[0;36m<module>\u001b[0;34m\u001b[0m\n\u001b[1;32m      7\u001b[0m \u001b[0mfig\u001b[0m \u001b[0;34m=\u001b[0m \u001b[0mplt\u001b[0m\u001b[0;34m.\u001b[0m\u001b[0mfigure\u001b[0m\u001b[0;34m(\u001b[0m\u001b[0;34m)\u001b[0m\u001b[0;34m\u001b[0m\u001b[0;34m\u001b[0m\u001b[0m\n\u001b[1;32m      8\u001b[0m \u001b[0max1\u001b[0m \u001b[0;34m=\u001b[0m \u001b[0mfig\u001b[0m\u001b[0;34m.\u001b[0m\u001b[0madd_subplot\u001b[0m\u001b[0;34m(\u001b[0m\u001b[0;36m111\u001b[0m\u001b[0;34m,\u001b[0m \u001b[0mprojection\u001b[0m\u001b[0;34m=\u001b[0m\u001b[0;34m'3d'\u001b[0m\u001b[0;34m)\u001b[0m\u001b[0;34m\u001b[0m\u001b[0;34m\u001b[0m\u001b[0m\n\u001b[0;32m----> 9\u001b[0;31m \u001b[0max\u001b[0m\u001b[0;34m.\u001b[0m\u001b[0mxaxis\u001b[0m\u001b[0;34m.\u001b[0m\u001b[0mset_pane_color\u001b[0m\u001b[0;34m(\u001b[0m\u001b[0;34m(\u001b[0m\u001b[0;36m1.0\u001b[0m\u001b[0;34m,\u001b[0m \u001b[0;36m1.0\u001b[0m\u001b[0;34m,\u001b[0m \u001b[0;36m1.0\u001b[0m\u001b[0;34m,\u001b[0m \u001b[0;36m0.0\u001b[0m\u001b[0;34m)\u001b[0m\u001b[0;34m)\u001b[0m\u001b[0;34m\u001b[0m\u001b[0;34m\u001b[0m\u001b[0m\n\u001b[0m\u001b[1;32m     10\u001b[0m \u001b[0;34m\u001b[0m\u001b[0m\n\u001b[1;32m     11\u001b[0m \u001b[0mx3\u001b[0m \u001b[0;34m=\u001b[0m \u001b[0;34m[\u001b[0m\u001b[0;36m1\u001b[0m\u001b[0;34m,\u001b[0m\u001b[0;36m2\u001b[0m\u001b[0;34m,\u001b[0m\u001b[0;36m3\u001b[0m\u001b[0;34m,\u001b[0m\u001b[0;36m4\u001b[0m\u001b[0;34m,\u001b[0m\u001b[0;36m5\u001b[0m\u001b[0;34m,\u001b[0m\u001b[0;36m6\u001b[0m\u001b[0;34m,\u001b[0m\u001b[0;36m7\u001b[0m\u001b[0;34m,\u001b[0m\u001b[0;36m8\u001b[0m\u001b[0;34m,\u001b[0m\u001b[0;36m9\u001b[0m\u001b[0;34m,\u001b[0m\u001b[0;36m10\u001b[0m\u001b[0;34m]\u001b[0m\u001b[0;34m\u001b[0m\u001b[0;34m\u001b[0m\u001b[0m\n",
      "\u001b[0;31mNameError\u001b[0m: name 'ax' is not defined"
     ]
    },
    {
     "data": {
      "image/png": "[encoded data removed]",
      "text/plain": [
       "<Figure size 432x288 with 1 Axes>"
      ]
     },
     "metadata": {},
     "output_type": "display_data"
    }
   ],
   "source": [
    "from mpl_toolkits.mplot3d import axes3d\n",
    "import matplotlib.pyplot as plt\n",
    "import numpy as np\n",
    "from matplotlib import style\n",
    "style.use('ggplot')\n",
    "\n",
    "fig = plt.figure()\n",
    "ax1 = fig.add_subplot(111, projection='3d')\n",
    "\n",
    "x3 = [1,2,3,4,5,6,7,8,9,10]\n",
    "y3 = [5,6,7,8,2,5,6,3,7,2]\n",
    "z3 = np.zeros(10)\n",
    "\n",
    "dx = np.ones(10)\n",
    "dy = np.ones(10)\n",
    "dz = [1,2,3,4,5,6,7,8,9,10]\n",
    "\n",
    "ax1.bar3d(x3, y3, z3, dx, dy, dz)"
   ]
  },
  {
   "cell_type": "code",
   "execution_count": 76,
   "metadata": {},
   "outputs": [
    {
     "data": {
      "text/plain": [
       "array([[ 0. ,  0. , -0. ,  0. ],\n",
       "       [ 0. ,  0.5, -0.5,  0. ],\n",
       "       [-0. , -0.5,  0.5, -0. ],\n",
       "       [ 0. ,  0. , -0. ,  0. ]])"
      ]
     },
     "execution_count": 76,
     "metadata": {},
     "output_type": "execute_result"
    }
   ],
   "source": [
    "densitymatrix(Bell[\"Psi Minus\"])"
   ]
  },
  {
   "cell_type": "code",
   "execution_count": 3,
   "metadata": {},
   "outputs": [
    {
     "data": {
      "image/png": "[encoded data removed]",
      "text/plain": [
       "<Figure size 432x288 with 1 Axes>"
      ]
     },
     "metadata": {},
     "output_type": "display_data"
    }
   ],
   "source": [
    "from mpl_toolkits.mplot3d import Axes3D\n",
    "\n",
    "fig = plt.figure()\n",
    "ax = fig.add_subplot(111, projection= Axes3D.name)\n",
    "\n",
    "def make_bar(ax, x0=0, y0=0, width = 0.5, height=1 , cmap=\"viridis\",  \n",
    "              norm=matplotlib.colors.Normalize(vmin=0, vmax=1), **kwargs ):\n",
    "    # Make data\n",
    "    u = np.linspace(0, 2*np.pi, 4+1)+np.pi/4.\n",
    "    v_ = np.linspace(np.pi/4., 3./4*np.pi, 100)\n",
    "    v = np.linspace(0, np.pi, len(v_)+2 )\n",
    "    v[0] = 0 ;  v[-1] = np.pi; v[1:-1] = v_\n",
    "    x = np.outer(np.cos(u), np.sin(v))\n",
    "    y = np.outer(np.sin(u), np.sin(v))\n",
    "    z = np.outer(np.ones(np.size(u)), np.cos(v))\n",
    "\n",
    "    xthr = np.sin(np.pi/4.)**2 ;  zthr = np.sin(np.pi/4.)\n",
    "    x[x > xthr] = xthr; x[x < -xthr] = -xthr\n",
    "    y[y > xthr] = xthr; y[y < -xthr] = -xthr\n",
    "    z[z > zthr] = zthr  ; z[z < -zthr] = -zthr\n",
    "\n",
    "    x *= 1./xthr*width; y *= 1./xthr*width\n",
    "    z += zthr\n",
    "    z *= height/(2.*zthr)\n",
    "    #translate\n",
    "    x += x0; y += y0\n",
    "    #plot\n",
    "    ax.plot_surface(x, y, z, cmap=cmap, norm=norm, **kwargs)\n",
    "\n",
    "def make_bars(ax, x, y, height, width=1):\n",
    "    widths = np.array(width)*np.ones_like(x)\n",
    "    x = np.array(x).flatten()\n",
    "    y = np.array(y).flatten()\n",
    "\n",
    "    h = np.array(height).flatten()\n",
    "    w = np.array(widths).flatten()\n",
    "    norm = matplotlib.colors.Normalize(vmin=0, vmax=h.max())\n",
    "    for i in range(len(x.flatten())):\n",
    "        make_bar(ax, x0=x[i], y0=y[i], width = w[i] , height=h[i], norm=norm)\n",
    "\n",
    "\n",
    "X, Y = np.meshgrid([1,2,3], [2,3,4])\n",
    "Z = np.sin(X*Y)+1.5\n",
    "\n",
    "make_bars(ax, X,Y,Z, width=0.2, )\n",
    "plt.show()"
   ]
  },
  {
   "cell_type": "code",
   "execution_count": null,
   "metadata": {},
   "outputs": [],
   "source": []
  }
 ],
 "metadata": {
  "interpreter": {
   "hash": "aee8b7b246df8f9039afb4144a1f6fd8d2ca17a180786b69acc140d282b71a49"
  },
  "kernelspec": {
   "display_name": "Python 3.9.10 64-bit",
   "language": "python",
   "name": "python3"
  },
  "language_info": {
   "codemirror_mode": {
    "name": "ipython",
    "version": 3
   },
   "file_extension": ".py",
   "mimetype": "text/x-python",
   "name": "python",
   "nbconvert_exporter": "python",
   "pygments_lexer": "ipython3",
   "version": "3.9.10"
  },
  "orig_nbformat": 4
 },
 "nbformat": 4,
 "nbformat_minor": 2
}
